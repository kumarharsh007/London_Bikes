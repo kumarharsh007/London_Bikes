{
 "cells": [
  {
   "cell_type": "markdown",
   "id": "b7bf60b6",
   "metadata": {},
   "source": [
    "# Import Libraries "
   ]
  },
  {
   "cell_type": "code",
   "execution_count": 43,
   "id": "b76b9cb5",
   "metadata": {},
   "outputs": [],
   "source": [
    "import pandas as pd"
   ]
  },
  {
   "cell_type": "markdown",
   "id": "7d53a456",
   "metadata": {},
   "source": [
    "### Read dataset"
   ]
  },
  {
   "cell_type": "code",
   "execution_count": 44,
   "id": "8c7a7acf",
   "metadata": {},
   "outputs": [],
   "source": [
    "df = pd.read_csv(\"london_merged.csv\")"
   ]
  },
  {
   "cell_type": "markdown",
   "id": "52330e21",
   "metadata": {},
   "source": [
    "#### Explore the data"
   ]
  },
  {
   "cell_type": "code",
   "execution_count": 45,
   "id": "dbbc157f",
   "metadata": {},
   "outputs": [
    {
     "name": "stdout",
     "output_type": "stream",
     "text": [
      "<class 'pandas.core.frame.DataFrame'>\n",
      "RangeIndex: 17414 entries, 0 to 17413\n",
      "Data columns (total 10 columns):\n",
      " #   Column        Non-Null Count  Dtype  \n",
      "---  ------        --------------  -----  \n",
      " 0   timestamp     17414 non-null  object \n",
      " 1   cnt           17414 non-null  int64  \n",
      " 2   t1            17414 non-null  float64\n",
      " 3   t2            17414 non-null  float64\n",
      " 4   hum           17414 non-null  float64\n",
      " 5   wind_speed    17414 non-null  float64\n",
      " 6   weather_code  17414 non-null  float64\n",
      " 7   is_holiday    17414 non-null  float64\n",
      " 8   is_weekend    17414 non-null  float64\n",
      " 9   season        17414 non-null  float64\n",
      "dtypes: float64(8), int64(1), object(1)\n",
      "memory usage: 1.3+ MB\n"
     ]
    }
   ],
   "source": [
    "df.info()"
   ]
  },
  {
   "cell_type": "markdown",
   "id": "38b63644",
   "metadata": {},
   "source": [
    "Observations :\n",
    "1. Timestamp column should be in datetime format\n",
    "2. Name can be more informatics for example : cnt, t1, t2, hum.\n",
    "3. Season is numeric value, need to understand what their significance is\n",
    "4. Same with weather code as well\n",
    "5. What is metric is used for measuerment of wind speed and humidity"
   ]
  },
  {
   "cell_type": "code",
   "execution_count": 46,
   "id": "9e4991e5",
   "metadata": {},
   "outputs": [
    {
     "data": {
      "text/plain": [
       "(17414, 10)"
      ]
     },
     "execution_count": 46,
     "metadata": {},
     "output_type": "execute_result"
    }
   ],
   "source": [
    "df.shape"
   ]
  },
  {
   "cell_type": "code",
   "execution_count": 47,
   "id": "b3026712",
   "metadata": {},
   "outputs": [
    {
     "data": {
      "text/html": [
       "<div>\n",
       "<style scoped>\n",
       "    .dataframe tbody tr th:only-of-type {\n",
       "        vertical-align: middle;\n",
       "    }\n",
       "\n",
       "    .dataframe tbody tr th {\n",
       "        vertical-align: top;\n",
       "    }\n",
       "\n",
       "    .dataframe thead th {\n",
       "        text-align: right;\n",
       "    }\n",
       "</style>\n",
       "<table border=\"1\" class=\"dataframe\">\n",
       "  <thead>\n",
       "    <tr style=\"text-align: right;\">\n",
       "      <th></th>\n",
       "      <th>timestamp</th>\n",
       "      <th>cnt</th>\n",
       "      <th>t1</th>\n",
       "      <th>t2</th>\n",
       "      <th>hum</th>\n",
       "      <th>wind_speed</th>\n",
       "      <th>weather_code</th>\n",
       "      <th>is_holiday</th>\n",
       "      <th>is_weekend</th>\n",
       "      <th>season</th>\n",
       "    </tr>\n",
       "  </thead>\n",
       "  <tbody>\n",
       "    <tr>\n",
       "      <th>0</th>\n",
       "      <td>2015-01-04 00:00:00</td>\n",
       "      <td>182</td>\n",
       "      <td>3.0</td>\n",
       "      <td>2.0</td>\n",
       "      <td>93.0</td>\n",
       "      <td>6.0</td>\n",
       "      <td>3.0</td>\n",
       "      <td>0.0</td>\n",
       "      <td>1.0</td>\n",
       "      <td>3.0</td>\n",
       "    </tr>\n",
       "    <tr>\n",
       "      <th>1</th>\n",
       "      <td>2015-01-04 01:00:00</td>\n",
       "      <td>138</td>\n",
       "      <td>3.0</td>\n",
       "      <td>2.5</td>\n",
       "      <td>93.0</td>\n",
       "      <td>5.0</td>\n",
       "      <td>1.0</td>\n",
       "      <td>0.0</td>\n",
       "      <td>1.0</td>\n",
       "      <td>3.0</td>\n",
       "    </tr>\n",
       "    <tr>\n",
       "      <th>2</th>\n",
       "      <td>2015-01-04 02:00:00</td>\n",
       "      <td>134</td>\n",
       "      <td>2.5</td>\n",
       "      <td>2.5</td>\n",
       "      <td>96.5</td>\n",
       "      <td>0.0</td>\n",
       "      <td>1.0</td>\n",
       "      <td>0.0</td>\n",
       "      <td>1.0</td>\n",
       "      <td>3.0</td>\n",
       "    </tr>\n",
       "    <tr>\n",
       "      <th>3</th>\n",
       "      <td>2015-01-04 03:00:00</td>\n",
       "      <td>72</td>\n",
       "      <td>2.0</td>\n",
       "      <td>2.0</td>\n",
       "      <td>100.0</td>\n",
       "      <td>0.0</td>\n",
       "      <td>1.0</td>\n",
       "      <td>0.0</td>\n",
       "      <td>1.0</td>\n",
       "      <td>3.0</td>\n",
       "    </tr>\n",
       "    <tr>\n",
       "      <th>4</th>\n",
       "      <td>2015-01-04 04:00:00</td>\n",
       "      <td>47</td>\n",
       "      <td>2.0</td>\n",
       "      <td>0.0</td>\n",
       "      <td>93.0</td>\n",
       "      <td>6.5</td>\n",
       "      <td>1.0</td>\n",
       "      <td>0.0</td>\n",
       "      <td>1.0</td>\n",
       "      <td>3.0</td>\n",
       "    </tr>\n",
       "  </tbody>\n",
       "</table>\n",
       "</div>"
      ],
      "text/plain": [
       "             timestamp  cnt   t1   t2    hum  wind_speed  weather_code  \\\n",
       "0  2015-01-04 00:00:00  182  3.0  2.0   93.0         6.0           3.0   \n",
       "1  2015-01-04 01:00:00  138  3.0  2.5   93.0         5.0           1.0   \n",
       "2  2015-01-04 02:00:00  134  2.5  2.5   96.5         0.0           1.0   \n",
       "3  2015-01-04 03:00:00   72  2.0  2.0  100.0         0.0           1.0   \n",
       "4  2015-01-04 04:00:00   47  2.0  0.0   93.0         6.5           1.0   \n",
       "\n",
       "   is_holiday  is_weekend  season  \n",
       "0         0.0         1.0     3.0  \n",
       "1         0.0         1.0     3.0  \n",
       "2         0.0         1.0     3.0  \n",
       "3         0.0         1.0     3.0  \n",
       "4         0.0         1.0     3.0  "
      ]
     },
     "execution_count": 47,
     "metadata": {},
     "output_type": "execute_result"
    }
   ],
   "source": [
    "df.head()"
   ]
  },
  {
   "cell_type": "code",
   "execution_count": 48,
   "id": "4aba6e85",
   "metadata": {},
   "outputs": [],
   "source": [
    "df = df.rename(columns= {\n",
    "    'timestamp' : 'time',\n",
    "    'cnt' : 'Count',\n",
    "    't1' : 'temp_real_C',\n",
    "    't2' : 'temp_feels_like_C',\n",
    "    'hum' : 'humidity_percent',\n",
    "    'wind_speed' : 'wind_speed_kph',\n",
    "    'weather_code' : 'weather'\n",
    "})"
   ]
  },
  {
   "cell_type": "code",
   "execution_count": 49,
   "id": "24d2c2c9",
   "metadata": {},
   "outputs": [
    {
     "data": {
      "text/html": [
       "<div>\n",
       "<style scoped>\n",
       "    .dataframe tbody tr th:only-of-type {\n",
       "        vertical-align: middle;\n",
       "    }\n",
       "\n",
       "    .dataframe tbody tr th {\n",
       "        vertical-align: top;\n",
       "    }\n",
       "\n",
       "    .dataframe thead th {\n",
       "        text-align: right;\n",
       "    }\n",
       "</style>\n",
       "<table border=\"1\" class=\"dataframe\">\n",
       "  <thead>\n",
       "    <tr style=\"text-align: right;\">\n",
       "      <th></th>\n",
       "      <th>time</th>\n",
       "      <th>Count</th>\n",
       "      <th>temp_real_C</th>\n",
       "      <th>temp_feels_like_C</th>\n",
       "      <th>humidity_percent</th>\n",
       "      <th>wind_speed_kph</th>\n",
       "      <th>weather</th>\n",
       "      <th>is_holiday</th>\n",
       "      <th>is_weekend</th>\n",
       "      <th>season</th>\n",
       "    </tr>\n",
       "  </thead>\n",
       "  <tbody>\n",
       "    <tr>\n",
       "      <th>0</th>\n",
       "      <td>2015-01-04 00:00:00</td>\n",
       "      <td>182</td>\n",
       "      <td>3.0</td>\n",
       "      <td>2.0</td>\n",
       "      <td>93.0</td>\n",
       "      <td>6.0</td>\n",
       "      <td>3.0</td>\n",
       "      <td>0.0</td>\n",
       "      <td>1.0</td>\n",
       "      <td>3.0</td>\n",
       "    </tr>\n",
       "    <tr>\n",
       "      <th>1</th>\n",
       "      <td>2015-01-04 01:00:00</td>\n",
       "      <td>138</td>\n",
       "      <td>3.0</td>\n",
       "      <td>2.5</td>\n",
       "      <td>93.0</td>\n",
       "      <td>5.0</td>\n",
       "      <td>1.0</td>\n",
       "      <td>0.0</td>\n",
       "      <td>1.0</td>\n",
       "      <td>3.0</td>\n",
       "    </tr>\n",
       "    <tr>\n",
       "      <th>2</th>\n",
       "      <td>2015-01-04 02:00:00</td>\n",
       "      <td>134</td>\n",
       "      <td>2.5</td>\n",
       "      <td>2.5</td>\n",
       "      <td>96.5</td>\n",
       "      <td>0.0</td>\n",
       "      <td>1.0</td>\n",
       "      <td>0.0</td>\n",
       "      <td>1.0</td>\n",
       "      <td>3.0</td>\n",
       "    </tr>\n",
       "    <tr>\n",
       "      <th>3</th>\n",
       "      <td>2015-01-04 03:00:00</td>\n",
       "      <td>72</td>\n",
       "      <td>2.0</td>\n",
       "      <td>2.0</td>\n",
       "      <td>100.0</td>\n",
       "      <td>0.0</td>\n",
       "      <td>1.0</td>\n",
       "      <td>0.0</td>\n",
       "      <td>1.0</td>\n",
       "      <td>3.0</td>\n",
       "    </tr>\n",
       "    <tr>\n",
       "      <th>4</th>\n",
       "      <td>2015-01-04 04:00:00</td>\n",
       "      <td>47</td>\n",
       "      <td>2.0</td>\n",
       "      <td>0.0</td>\n",
       "      <td>93.0</td>\n",
       "      <td>6.5</td>\n",
       "      <td>1.0</td>\n",
       "      <td>0.0</td>\n",
       "      <td>1.0</td>\n",
       "      <td>3.0</td>\n",
       "    </tr>\n",
       "  </tbody>\n",
       "</table>\n",
       "</div>"
      ],
      "text/plain": [
       "                  time  Count  temp_real_C  temp_feels_like_C  \\\n",
       "0  2015-01-04 00:00:00    182          3.0                2.0   \n",
       "1  2015-01-04 01:00:00    138          3.0                2.5   \n",
       "2  2015-01-04 02:00:00    134          2.5                2.5   \n",
       "3  2015-01-04 03:00:00     72          2.0                2.0   \n",
       "4  2015-01-04 04:00:00     47          2.0                0.0   \n",
       "\n",
       "   humidity_percent  wind_speed_kph  weather  is_holiday  is_weekend  season  \n",
       "0              93.0             6.0      3.0         0.0         1.0     3.0  \n",
       "1              93.0             5.0      1.0         0.0         1.0     3.0  \n",
       "2              96.5             0.0      1.0         0.0         1.0     3.0  \n",
       "3             100.0             0.0      1.0         0.0         1.0     3.0  \n",
       "4              93.0             6.5      1.0         0.0         1.0     3.0  "
      ]
     },
     "execution_count": 49,
     "metadata": {},
     "output_type": "execute_result"
    }
   ],
   "source": [
    "df.head()"
   ]
  },
  {
   "cell_type": "code",
   "execution_count": 50,
   "id": "4ab4720f",
   "metadata": {},
   "outputs": [
    {
     "data": {
      "text/plain": [
       "1.0     6150\n",
       "2.0     4034\n",
       "3.0     3551\n",
       "7.0     2141\n",
       "4.0     1464\n",
       "26.0      60\n",
       "10.0      14\n",
       "Name: weather, dtype: int64"
      ]
     },
     "execution_count": 50,
     "metadata": {},
     "output_type": "execute_result"
    }
   ],
   "source": [
    "# Count unique values in weather_code\n",
    "df['weather'].value_counts()"
   ]
  },
  {
   "cell_type": "code",
   "execution_count": 51,
   "id": "22df4a7d",
   "metadata": {},
   "outputs": [
    {
     "data": {
      "text/plain": [
       "0.0    4394\n",
       "1.0    4387\n",
       "3.0    4330\n",
       "2.0    4303\n",
       "Name: season, dtype: int64"
      ]
     },
     "execution_count": 51,
     "metadata": {},
     "output_type": "execute_result"
    }
   ],
   "source": [
    "# Count unique values of season\n",
    "df['season'].value_counts()"
   ]
  },
  {
   "cell_type": "markdown",
   "id": "e31b999b",
   "metadata": {},
   "source": [
    "Discriptions of categorical values:\n",
    "1. Weather Code : \n",
    "                 1 = Clear ; mostly clear but have some values with haze/fog/patches of fog/ fog in vicinity\n",
    "                 2 = scattered clouds / few clouds \n",
    "                 3 = Broken clouds \n",
    "                 4 = Cloudy \n",
    "                 7 = Rain/ light Rain shower/ Light rain \n",
    "                 10 = rain with thunderstorm \n",
    "                 26 = snowfall \n",
    "                 94 = Freezing Fog\n",
    "                 \n",
    "2. Is holiday :  1 -> holiday, 0 -> Non holiday\n",
    "3. Is Weeknd :   1 -> Weeknd, 0 -> Week days\n",
    "4. Season :\n",
    "                 0 = Spring\n",
    "                 1 = Summer\n",
    "                 2 - Fall\n",
    "                 3 = Winter"
   ]
  },
  {
   "cell_type": "code",
   "execution_count": 52,
   "id": "99144cf0",
   "metadata": {},
   "outputs": [],
   "source": [
    "df['humidity_percent'] = df['humidity_percent']/100"
   ]
  },
  {
   "cell_type": "code",
   "execution_count": 53,
   "id": "d5b88cb3",
   "metadata": {},
   "outputs": [
    {
     "data": {
      "text/html": [
       "<div>\n",
       "<style scoped>\n",
       "    .dataframe tbody tr th:only-of-type {\n",
       "        vertical-align: middle;\n",
       "    }\n",
       "\n",
       "    .dataframe tbody tr th {\n",
       "        vertical-align: top;\n",
       "    }\n",
       "\n",
       "    .dataframe thead th {\n",
       "        text-align: right;\n",
       "    }\n",
       "</style>\n",
       "<table border=\"1\" class=\"dataframe\">\n",
       "  <thead>\n",
       "    <tr style=\"text-align: right;\">\n",
       "      <th></th>\n",
       "      <th>time</th>\n",
       "      <th>Count</th>\n",
       "      <th>temp_real_C</th>\n",
       "      <th>temp_feels_like_C</th>\n",
       "      <th>humidity_percent</th>\n",
       "      <th>wind_speed_kph</th>\n",
       "      <th>weather</th>\n",
       "      <th>is_holiday</th>\n",
       "      <th>is_weekend</th>\n",
       "      <th>season</th>\n",
       "    </tr>\n",
       "  </thead>\n",
       "  <tbody>\n",
       "    <tr>\n",
       "      <th>0</th>\n",
       "      <td>2015-01-04 00:00:00</td>\n",
       "      <td>182</td>\n",
       "      <td>3.0</td>\n",
       "      <td>2.0</td>\n",
       "      <td>0.930</td>\n",
       "      <td>6.0</td>\n",
       "      <td>3.0</td>\n",
       "      <td>0.0</td>\n",
       "      <td>1.0</td>\n",
       "      <td>3.0</td>\n",
       "    </tr>\n",
       "    <tr>\n",
       "      <th>1</th>\n",
       "      <td>2015-01-04 01:00:00</td>\n",
       "      <td>138</td>\n",
       "      <td>3.0</td>\n",
       "      <td>2.5</td>\n",
       "      <td>0.930</td>\n",
       "      <td>5.0</td>\n",
       "      <td>1.0</td>\n",
       "      <td>0.0</td>\n",
       "      <td>1.0</td>\n",
       "      <td>3.0</td>\n",
       "    </tr>\n",
       "    <tr>\n",
       "      <th>2</th>\n",
       "      <td>2015-01-04 02:00:00</td>\n",
       "      <td>134</td>\n",
       "      <td>2.5</td>\n",
       "      <td>2.5</td>\n",
       "      <td>0.965</td>\n",
       "      <td>0.0</td>\n",
       "      <td>1.0</td>\n",
       "      <td>0.0</td>\n",
       "      <td>1.0</td>\n",
       "      <td>3.0</td>\n",
       "    </tr>\n",
       "    <tr>\n",
       "      <th>3</th>\n",
       "      <td>2015-01-04 03:00:00</td>\n",
       "      <td>72</td>\n",
       "      <td>2.0</td>\n",
       "      <td>2.0</td>\n",
       "      <td>1.000</td>\n",
       "      <td>0.0</td>\n",
       "      <td>1.0</td>\n",
       "      <td>0.0</td>\n",
       "      <td>1.0</td>\n",
       "      <td>3.0</td>\n",
       "    </tr>\n",
       "    <tr>\n",
       "      <th>4</th>\n",
       "      <td>2015-01-04 04:00:00</td>\n",
       "      <td>47</td>\n",
       "      <td>2.0</td>\n",
       "      <td>0.0</td>\n",
       "      <td>0.930</td>\n",
       "      <td>6.5</td>\n",
       "      <td>1.0</td>\n",
       "      <td>0.0</td>\n",
       "      <td>1.0</td>\n",
       "      <td>3.0</td>\n",
       "    </tr>\n",
       "  </tbody>\n",
       "</table>\n",
       "</div>"
      ],
      "text/plain": [
       "                  time  Count  temp_real_C  temp_feels_like_C  \\\n",
       "0  2015-01-04 00:00:00    182          3.0                2.0   \n",
       "1  2015-01-04 01:00:00    138          3.0                2.5   \n",
       "2  2015-01-04 02:00:00    134          2.5                2.5   \n",
       "3  2015-01-04 03:00:00     72          2.0                2.0   \n",
       "4  2015-01-04 04:00:00     47          2.0                0.0   \n",
       "\n",
       "   humidity_percent  wind_speed_kph  weather  is_holiday  is_weekend  season  \n",
       "0             0.930             6.0      3.0         0.0         1.0     3.0  \n",
       "1             0.930             5.0      1.0         0.0         1.0     3.0  \n",
       "2             0.965             0.0      1.0         0.0         1.0     3.0  \n",
       "3             1.000             0.0      1.0         0.0         1.0     3.0  \n",
       "4             0.930             6.5      1.0         0.0         1.0     3.0  "
      ]
     },
     "execution_count": 53,
     "metadata": {},
     "output_type": "execute_result"
    }
   ],
   "source": [
    "df.head()"
   ]
  },
  {
   "cell_type": "code",
   "execution_count": 54,
   "id": "08ed0b9c",
   "metadata": {},
   "outputs": [],
   "source": [
    "# Converting categorical numerical values into strings\n",
    "season_dict = {\n",
    "    '0.0' : 'spring',\n",
    "    '1.0' : 'summer',\n",
    "    '2.0' : 'autumn',\n",
    "    '3.0' : 'winter'\n",
    "}\n",
    "\n",
    "weather_dict = {\n",
    "    '1.0' : 'Clear',\n",
    "    '2.0' : 'Scattered clouds',\n",
    "    '3.0' : 'Broken Clouds',\n",
    "    '4.0' : 'Cloudy',\n",
    "    '7.0' : 'Rain',\n",
    "    '10.0' : 'Rain with thunderstorm',\n",
    "    '26.0' : 'Snowfall',\n",
    "    '94.0' : 'Fog'\n",
    "}\n",
    "\n",
    "df.season = df.season.astype('str')\n",
    "df .season = df.season.map(season_dict)\n",
    "\n",
    "df.weather = df.weather.astype('str')\n",
    "df.weather = df.weather.map(weather_dict)"
   ]
  },
  {
   "cell_type": "code",
   "execution_count": 55,
   "id": "0a489949",
   "metadata": {},
   "outputs": [
    {
     "data": {
      "text/html": [
       "<div>\n",
       "<style scoped>\n",
       "    .dataframe tbody tr th:only-of-type {\n",
       "        vertical-align: middle;\n",
       "    }\n",
       "\n",
       "    .dataframe tbody tr th {\n",
       "        vertical-align: top;\n",
       "    }\n",
       "\n",
       "    .dataframe thead th {\n",
       "        text-align: right;\n",
       "    }\n",
       "</style>\n",
       "<table border=\"1\" class=\"dataframe\">\n",
       "  <thead>\n",
       "    <tr style=\"text-align: right;\">\n",
       "      <th></th>\n",
       "      <th>time</th>\n",
       "      <th>Count</th>\n",
       "      <th>temp_real_C</th>\n",
       "      <th>temp_feels_like_C</th>\n",
       "      <th>humidity_percent</th>\n",
       "      <th>wind_speed_kph</th>\n",
       "      <th>weather</th>\n",
       "      <th>is_holiday</th>\n",
       "      <th>is_weekend</th>\n",
       "      <th>season</th>\n",
       "    </tr>\n",
       "  </thead>\n",
       "  <tbody>\n",
       "    <tr>\n",
       "      <th>0</th>\n",
       "      <td>2015-01-04 00:00:00</td>\n",
       "      <td>182</td>\n",
       "      <td>3.0</td>\n",
       "      <td>2.0</td>\n",
       "      <td>0.930</td>\n",
       "      <td>6.0</td>\n",
       "      <td>Broken Clouds</td>\n",
       "      <td>0.0</td>\n",
       "      <td>1.0</td>\n",
       "      <td>winter</td>\n",
       "    </tr>\n",
       "    <tr>\n",
       "      <th>1</th>\n",
       "      <td>2015-01-04 01:00:00</td>\n",
       "      <td>138</td>\n",
       "      <td>3.0</td>\n",
       "      <td>2.5</td>\n",
       "      <td>0.930</td>\n",
       "      <td>5.0</td>\n",
       "      <td>Clear</td>\n",
       "      <td>0.0</td>\n",
       "      <td>1.0</td>\n",
       "      <td>winter</td>\n",
       "    </tr>\n",
       "    <tr>\n",
       "      <th>2</th>\n",
       "      <td>2015-01-04 02:00:00</td>\n",
       "      <td>134</td>\n",
       "      <td>2.5</td>\n",
       "      <td>2.5</td>\n",
       "      <td>0.965</td>\n",
       "      <td>0.0</td>\n",
       "      <td>Clear</td>\n",
       "      <td>0.0</td>\n",
       "      <td>1.0</td>\n",
       "      <td>winter</td>\n",
       "    </tr>\n",
       "    <tr>\n",
       "      <th>3</th>\n",
       "      <td>2015-01-04 03:00:00</td>\n",
       "      <td>72</td>\n",
       "      <td>2.0</td>\n",
       "      <td>2.0</td>\n",
       "      <td>1.000</td>\n",
       "      <td>0.0</td>\n",
       "      <td>Clear</td>\n",
       "      <td>0.0</td>\n",
       "      <td>1.0</td>\n",
       "      <td>winter</td>\n",
       "    </tr>\n",
       "    <tr>\n",
       "      <th>4</th>\n",
       "      <td>2015-01-04 04:00:00</td>\n",
       "      <td>47</td>\n",
       "      <td>2.0</td>\n",
       "      <td>0.0</td>\n",
       "      <td>0.930</td>\n",
       "      <td>6.5</td>\n",
       "      <td>Clear</td>\n",
       "      <td>0.0</td>\n",
       "      <td>1.0</td>\n",
       "      <td>winter</td>\n",
       "    </tr>\n",
       "  </tbody>\n",
       "</table>\n",
       "</div>"
      ],
      "text/plain": [
       "                  time  Count  temp_real_C  temp_feels_like_C  \\\n",
       "0  2015-01-04 00:00:00    182          3.0                2.0   \n",
       "1  2015-01-04 01:00:00    138          3.0                2.5   \n",
       "2  2015-01-04 02:00:00    134          2.5                2.5   \n",
       "3  2015-01-04 03:00:00     72          2.0                2.0   \n",
       "4  2015-01-04 04:00:00     47          2.0                0.0   \n",
       "\n",
       "   humidity_percent  wind_speed_kph        weather  is_holiday  is_weekend  \\\n",
       "0             0.930             6.0  Broken Clouds         0.0         1.0   \n",
       "1             0.930             5.0          Clear         0.0         1.0   \n",
       "2             0.965             0.0          Clear         0.0         1.0   \n",
       "3             1.000             0.0          Clear         0.0         1.0   \n",
       "4             0.930             6.5          Clear         0.0         1.0   \n",
       "\n",
       "   season  \n",
       "0  winter  \n",
       "1  winter  \n",
       "2  winter  \n",
       "3  winter  \n",
       "4  winter  "
      ]
     },
     "execution_count": 55,
     "metadata": {},
     "output_type": "execute_result"
    }
   ],
   "source": [
    "df.head()"
   ]
  },
  {
   "cell_type": "code",
   "execution_count": 56,
   "id": "748b4857",
   "metadata": {},
   "outputs": [],
   "source": [
    "df.time = pd.to_datetime(df.time)"
   ]
  },
  {
   "cell_type": "code",
   "execution_count": 57,
   "id": "9de41531",
   "metadata": {},
   "outputs": [
    {
     "name": "stdout",
     "output_type": "stream",
     "text": [
      "<class 'pandas.core.frame.DataFrame'>\n",
      "RangeIndex: 17414 entries, 0 to 17413\n",
      "Data columns (total 10 columns):\n",
      " #   Column             Non-Null Count  Dtype         \n",
      "---  ------             --------------  -----         \n",
      " 0   time               17414 non-null  datetime64[ns]\n",
      " 1   Count              17414 non-null  int64         \n",
      " 2   temp_real_C        17414 non-null  float64       \n",
      " 3   temp_feels_like_C  17414 non-null  float64       \n",
      " 4   humidity_percent   17414 non-null  float64       \n",
      " 5   wind_speed_kph     17414 non-null  float64       \n",
      " 6   weather            17414 non-null  object        \n",
      " 7   is_holiday         17414 non-null  float64       \n",
      " 8   is_weekend         17414 non-null  float64       \n",
      " 9   season             17414 non-null  object        \n",
      "dtypes: datetime64[ns](1), float64(6), int64(1), object(2)\n",
      "memory usage: 1.3+ MB\n"
     ]
    }
   ],
   "source": [
    "df.info()"
   ]
  },
  {
   "cell_type": "code",
   "execution_count": 58,
   "id": "f846d243",
   "metadata": {},
   "outputs": [],
   "source": [
    "df.to_excel('london_bikes_final.xlsx',sheet_name='Data')"
   ]
  },
  {
   "cell_type": "markdown",
   "id": "d8f8717c",
   "metadata": {},
   "source": [
    "## Conclusions"
   ]
  },
  {
   "cell_type": "markdown",
   "id": "e1c42c0b",
   "metadata": {},
   "source": [
    "1. Rename the columns to more informatic names\n",
    "2. Converted humidity into probability where values will lie under 0 and 1\n",
    "3. Converted numerical categorical values to categories with their name\n",
    "4. Converted time column to date time format"
   ]
  }
 ],
 "metadata": {
  "kernelspec": {
   "display_name": "Python 3 (ipykernel)",
   "language": "python",
   "name": "python3"
  },
  "language_info": {
   "codemirror_mode": {
    "name": "ipython",
    "version": 3
   },
   "file_extension": ".py",
   "mimetype": "text/x-python",
   "name": "python",
   "nbconvert_exporter": "python",
   "pygments_lexer": "ipython3",
   "version": "3.10.9"
  }
 },
 "nbformat": 4,
 "nbformat_minor": 5
}
